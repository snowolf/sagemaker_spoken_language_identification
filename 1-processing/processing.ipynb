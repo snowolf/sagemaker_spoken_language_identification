{
 "cells": [
  {
   "cell_type": "markdown",
   "metadata": {},
   "source": [
    "# 数据预处理\n",
    "\n",
    "本项目利用 AWS Sagemaker 封装语音识别的深度学习算法， 提取声音的Filter Bank 特征， 将声音信号转换成图像（40*1000），利用CNN进行特征提取， 最后做语音的分类。 使用了语音增强的功能， 通过变换背景噪声、调整语速和音量， 生成更多的训练样本。"
   ]
  },
  {
   "cell_type": "code",
   "execution_count": null,
   "metadata": {},
   "outputs": [],
   "source": [
    "import boto3\n",
    "import sagemaker\n",
    "import os\n",
    "from sagemaker import get_execution_role\n",
    "\n",
    "region = boto3.session.Session().region_name\n",
    "\n",
    "role = get_execution_role()"
   ]
  },
  {
   "cell_type": "markdown",
   "metadata": {},
   "source": [
    "使用SageMaker processing对数据预处理\n",
    "\n",
    "We will demo using Sagemaker processing in BYOC mode, so first we need package our container."
   ]
  },
  {
   "cell_type": "markdown",
   "metadata": {},
   "source": [
    "We are using AWS Deep Learning Container as our base container, you can check the available list in https://aws.amazon.com/cn/releasenotes/available-deep-learning-containers-images/\n",
    "\n",
    "Remember change the base container by the region you are using."
   ]
  },
  {
   "cell_type": "markdown",
   "metadata": {},
   "source": [
    "编写dockerfile （可选，后面步骤提供了一个已经打包好的container image，可以直接使用，无需从零构建image）"
   ]
  },
  {
   "cell_type": "code",
   "execution_count": null,
   "metadata": {},
   "outputs": [],
   "source": [
    "%%writefile docker/Dockerfile\n",
    "# https://aws.amazon.com/cn/releasenotes/available-deep-learning-containers-images/\n",
    "# FROM 763104351884.dkr.ecr.us-west-2.amazonaws.com/tensorflow-training:1.15.2-cpu-py36-ubuntu18.04\n",
    "FROM 727897471807.dkr.ecr.cn-north-1.amazonaws.com.cn/tensorflow-training:1.15.2-cpu-py36-ubuntu18.04\n",
    "\n",
    "RUN apt-get -y update && apt-get install -y --no-install-recommends \\\n",
    "         wget \\\n",
    "         libsm6 \\\n",
    "         libxrender1 \\\n",
    "         libglib2.0-dev \\\n",
    "         libxext6 \\\n",
    "         libsndfile1 \\\n",
    "         libsndfile-dev \\\n",
    "         libgmp-dev \\\n",
    "         libsox-dev \\\n",
    "    && rm -rf /var/lib/apt/lists/*\n",
    "\n",
    "# RUN mkdir /opt/ml/code\n",
    "WORKDIR /opt/ml/code\n",
    "COPY source ./\n",
    "\n",
    "RUN pip install --upgrade pip\n",
    "RUN pip install -r requirements.txt -i https://mirrors.163.com/pypi/simple/\n",
    "\n",
    "WORKDIR /opt/\n",
    "RUN wget https://johnvansickle.com/ffmpeg/builds/ffmpeg-git-amd64-static.tar.xz && xz -d ffmpeg-git-amd64-static.tar.xz \\\n",
    "    && tar xvf ffmpeg-git-amd64-static.tar \n",
    "WORKDIR /opt/ffmpeg-git-20200617-amd64-static\n",
    "RUN cp ffmpeg  ffprobe  qt-faststart  /usr/bin/\n",
    "    \n",
    "WORKDIR /opt/\n",
    "RUN wget http://downloads.xiph.org/releases/ogg/libogg-1.3.4.tar.gz \\\n",
    "    && tar -zvxf libogg-1.3.4.tar.gz \n",
    "WORKDIR /opt/libogg-1.3.4 \n",
    "RUN ./configure && make && make install\n",
    "    \n",
    "WORKDIR /opt/\n",
    "RUN wget http://downloads.xiph.org/releases/vorbis/libvorbis-1.3.6.tar.gz \\\n",
    "    && tar -zvxf libvorbis-1.3.6.tar.gz\n",
    "WORKDIR /opt/libvorbis-1.3.6 \n",
    "RUN ./configure && make && make install\n",
    "    \n",
    "WORKDIR /opt/\n",
    "RUN wget https://ftp.osuosl.org/pub/xiph/releases/flac/flac-1.3.3.tar.xz \\\n",
    "    && xz -d flac-1.3.3.tar.xz \\\n",
    "    && tar xvf flac-1.3.3.tar\n",
    "WORKDIR /opt/flac-1.3.3 \n",
    "RUN ./configure && make && make install \\\n",
    "    && ln -s /usr/local/bin/flac /usr/bin/flac\n",
    "    \n",
    "WORKDIR /opt/    \n",
    "RUN wget https://jaist.dl.sourceforge.net/project/sox/sox/14.4.2/sox-14.4.2.tar.gz \\\n",
    "    && tar -zvxf sox-14.4.2.tar.gz\n",
    "WORKDIR /opt/sox-14.4.2 \n",
    "RUN ./configure \\\n",
    "    && make && make install \\\n",
    "    && ln -s /usr/local/bin/sox /usr/bin/sox \\\n",
    "    && ln -s /usr/local/bin/soxi /usr/bin/soxi\n",
    "\n",
    "# WORKDIR /opt/    \n",
    "# RUN wget http://www.mega-nerd.com/libsndfile/files/libsndfile-1.0.28.tar.gz \\\n",
    "#     && tar -zxvf libsndfile-1.0.28.tar.gz\n",
    "# WORKDIR /opt/libsndfile-1.0.28 \n",
    "# RUN export PKG_CONFIG_PATH=/usr/local/lib/pkgconfig:$PKG_CONFIG_PATH \\\n",
    "#     && ./configure \\\n",
    "#     && make && make install\n",
    "\n",
    "# ENV PYTHONUNBUFFERED=TRUE\n",
    "ENTRYPOINT [\"python3\"]\n"
   ]
  },
  {
   "cell_type": "markdown",
   "metadata": {},
   "source": [
    "创建自己的docker image 库"
   ]
  },
  {
   "cell_type": "code",
   "execution_count": null,
   "metadata": {},
   "outputs": [],
   "source": [
    "# Run this cell only onece to create the repository in ECR\n",
    "import boto3\n",
    "\n",
    "account_id = boto3.client('sts').get_caller_identity().get('Account')\n",
    "ecr_repository = 'spoken-language-identification-sagemaker-processing-container'\n",
    "tag = ':latest'\n",
    "uri_suffix = 'amazonaws.com'\n",
    "if region in ['cn-north-1', 'cn-northwest-1']:\n",
    "    uri_suffix = 'amazonaws.com.cn'\n",
    "processing_repository_uri = '{}.dkr.ecr.{}.{}/{}'.format(account_id, region, uri_suffix, ecr_repository + tag)\n",
    "print(processing_repository_uri)\n",
    "ecr = '{}.dkr.ecr.{}.{}'.format(account_id, region, uri_suffix)\n",
    "\n",
    "!aws ecr create-repository --repository-name $ecr_repository"
   ]
  },
  {
   "cell_type": "markdown",
   "metadata": {},
   "source": [
    "# Docker image的镜像方式\n",
    "\n",
    "## 以下方式二选一\n",
    "\n",
    "## 1、使用已经构建好的image\n",
    "## 2、自行构建（如果是在国内时间较久）"
   ]
  },
  {
   "cell_type": "markdown",
   "metadata": {},
   "source": [
    "## 使用已经构建好的image\n"
   ]
  },
  {
   "cell_type": "code",
   "execution_count": null,
   "metadata": {},
   "outputs": [],
   "source": [
    "# 不要改下面这行命令\n",
    "!aws ecr get-login-password --region cn-north-1 | docker login --username AWS --password-stdin 346044390830.dkr.ecr.cn-north-1.amazonaws.com.cn"
   ]
  },
  {
   "cell_type": "markdown",
   "metadata": {},
   "source": [
    "将 docker image 下载到本地，然后上传到自己的ECR库中"
   ]
  },
  {
   "cell_type": "code",
   "execution_count": null,
   "metadata": {},
   "outputs": [],
   "source": [
    "exist_image = '346044390830.dkr.ecr.cn-north-1.amazonaws.com.cn/spoken-language-identification-sagemaker-processing-container:latest'"
   ]
  },
  {
   "cell_type": "code",
   "execution_count": null,
   "metadata": {},
   "outputs": [],
   "source": [
    "!docker pull $exist_image"
   ]
  },
  {
   "cell_type": "code",
   "execution_count": null,
   "metadata": {},
   "outputs": [],
   "source": [
    "!docker tag $exist_image $processing_repository_uri\n",
    "!docker push $processing_repository_uri"
   ]
  },
  {
   "cell_type": "code",
   "execution_count": null,
   "metadata": {},
   "outputs": [],
   "source": [
    "processing_repository_uri"
   ]
  },
  {
   "cell_type": "markdown",
   "metadata": {},
   "source": [
    "## 自行构建（如果是在国内时间会较久，主要是下载相应的一些包比较慢）"
   ]
  },
  {
   "cell_type": "code",
   "execution_count": null,
   "metadata": {},
   "outputs": [],
   "source": [
    "# if it said no basic auth for pull base image, use below cli first\n",
    "!aws ecr get-login-password --region cn-north-1 | docker login --username AWS --password-stdin 727897471807.dkr.ecr.cn-north-1.amazonaws.com.cn"
   ]
  },
  {
   "cell_type": "code",
   "execution_count": null,
   "metadata": {
    "scrolled": true
   },
   "outputs": [],
   "source": [
    "!aws ecr get-login-password --region $region | docker login --username AWS --password-stdin $ecr\n",
    "\n",
    "# Create ECR repository and push docker image\n",
    "!docker build -t $ecr_repository docker\n",
    "!docker tag {ecr_repository + tag} $processing_repository_uri\n",
    "!docker push $processing_repository_uri"
   ]
  },
  {
   "cell_type": "markdown",
   "metadata": {},
   "source": [
    "## 设置待处理数据位置及输出位置"
   ]
  },
  {
   "cell_type": "code",
   "execution_count": null,
   "metadata": {},
   "outputs": [],
   "source": [
    "# change this to your data path in S3, for example s3://BUCKET/PATH/input/\n",
    "#改为自己的S3 bucket名, 将原始数据上传到input_data桶下，该任务完成后，将从output_data获取到下一步训练用的数据，即output_data将作为训练数据的输入位置\n",
    "bucket = 'YOUR_BUCKET_NAME'\n",
    "input_data = 's3://{}/spoken/processing/'.format(bucket)\n",
    "output_data = 's3://{}/spoken/processing-folds/'.format(bucket)"
   ]
  },
  {
   "cell_type": "markdown",
   "metadata": {},
   "source": [
    "原始数据按train,test, noises上传到input_data路径下面各自的目录。\n",
    "\n",
    "noises/\n",
    "                            \n",
    "test/\n",
    "                            \n",
    "train/"
   ]
  },
  {
   "cell_type": "markdown",
   "metadata": {},
   "source": [
    "## Start processing job\n",
    "\n",
    "For api doc, https://sagemaker.readthedocs.io/en/stable/amazon_sagemaker_processing.html\n",
    "\n",
    "\n",
    "[Processor](https://sagemaker.readthedocs.io/en/stable/processing.html#sagemaker.processing.Processor)\n",
    "\n",
    "[ScriptProcessor](https://sagemaker.readthedocs.io/en/stable/processing.html#sagemaker.processing.ScriptProcessor)\n",
    "\n",
    "[ProcessingInput](https://sagemaker.readthedocs.io/en/stable/processing.html#sagemaker.processing.ProcessingInput)\n",
    "\n",
    "[ProcessingOutput](https://sagemaker.readthedocs.io/en/stable/processing.html#sagemaker.processing.ProcessingOutput)\n",
    "\n",
    "[ProcessingJob](https://sagemaker.readthedocs.io/en/stable/processing.html#sagemaker.processing.ProcessingJob)\n"
   ]
  },
  {
   "cell_type": "code",
   "execution_count": null,
   "metadata": {},
   "outputs": [],
   "source": [
    "from sagemaker.processing import ScriptProcessor\n",
    "from sagemaker.processing import ProcessingInput, ProcessingOutput\n",
    "from sagemaker.network import NetworkConfig\n",
    "\n",
    "script_processor = ScriptProcessor(command=['python3'],\n",
    "                image_uri=processing_repository_uri,\n",
    "                role=role,\n",
    "                instance_count=1,\n",
    "                instance_type='ml.c5.xlarge',\n",
    "                volume_size_in_gb=50,\n",
    "                base_job_name='spoken-language-identification')"
   ]
  },
  {
   "cell_type": "code",
   "execution_count": null,
   "metadata": {},
   "outputs": [],
   "source": [
    "# For arguments, you could pass parameters and as use them in your script by argparse\n",
    "script_processor.run(code='preprocess.py',\n",
    "                      inputs=[ProcessingInput(\n",
    "                        source=input_data,\n",
    "                        destination='/opt/ml/processing/input_data',\n",
    "                        s3_data_distribution_type='ShardedByS3Key')],\n",
    "                      outputs=[ProcessingOutput(destination=output_data,\n",
    "                                                source='/opt/ml/processing/output_data',\n",
    "                                                s3_upload_mode = 'EndOfJob')])\n",
    "\n",
    "script_processor_job_description = script_processor.jobs[-1].describe()\n",
    "print(script_processor_job_description)"
   ]
  },
  {
   "cell_type": "code",
   "execution_count": null,
   "metadata": {},
   "outputs": [],
   "source": []
  }
 ],
 "metadata": {
  "instance_type": "ml.g4dn.xlarge",
  "kernelspec": {
   "display_name": "conda_python3",
   "language": "python",
   "name": "conda_python3"
  },
  "language_info": {
   "codemirror_mode": {
    "name": "ipython",
    "version": 3
   },
   "file_extension": ".py",
   "mimetype": "text/x-python",
   "name": "python",
   "nbconvert_exporter": "python",
   "pygments_lexer": "ipython3",
   "version": "3.6.5"
  }
 },
 "nbformat": 4,
 "nbformat_minor": 4
}
