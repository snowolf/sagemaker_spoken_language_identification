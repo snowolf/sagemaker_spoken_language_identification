{
 "cells": [
  {
   "cell_type": "markdown",
   "metadata": {},
   "source": [
    "## About this notebook\n",
    "\n",
    "We are going to use SageMaker BYOS mode for the training and deployment part of our model.\n",
    "\n",
    "待processing完成后，在上一个notebook中设定的output_data这个S3 路径下面将有生成的用于训练的数据。"
   ]
  },
  {
   "cell_type": "code",
   "execution_count": null,
   "metadata": {},
   "outputs": [],
   "source": [
    "import os\n",
    "import sagemaker\n",
    "from sagemaker import get_execution_role\n",
    "\n",
    "sagemaker_session = sagemaker.Session()\n",
    "\n",
    "_role = get_execution_role()\n",
    "print(_role)"
   ]
  },
  {
   "cell_type": "markdown",
   "metadata": {},
   "source": [
    "将bucket设为自己的桶名，inputs为在processing阶段设置的output_data这个值，形式为 's3://{}/spoken/processing-folds/'.format(bucket)，即处理后的将用于训练的数据"
   ]
  },
  {
   "cell_type": "code",
   "execution_count": null,
   "metadata": {},
   "outputs": [],
   "source": [
    "bucket = 'YOUR_BUCKET_NAME'\n",
    "inputs = 's3://{}/spoken/processing-folds/'.format(bucket)\n",
    "\n",
    "prefix = 'spoken'"
   ]
  },
  {
   "cell_type": "code",
   "execution_count": null,
   "metadata": {},
   "outputs": [],
   "source": [
    "from sagemaker.tensorflow import TensorFlow\n",
    "\n",
    "# 建议使用gpu类型的实例\n",
    "instance_type='ml.p3.2xlarge'\n",
    "\n",
    "# 可以修改epoch_count，batch_size\n",
    "sli_estimator = TensorFlow(entry_point='model.py',\n",
    "                             source_dir='./source',\n",
    "                             role=_role,\n",
    "                             output_path='s3://{}/{}/output'.format(bucket, prefix),\n",
    "                             framework_version='1.15.2',\n",
    "                             hyperparameters={'epoch_count':100, 'batch_size':8}, \n",
    "                             py_version='py3',\n",
    "                             train_instance_count=1,\n",
    "                             train_instance_type=instance_type,\n",
    "                             train_volume_size=100,\n",
    "                             train_max_run=432000,\n",
    "                             train_use_spot_instances=True,\n",
    "                             train_max_wait=432000,\n",
    "                             metric_definitions=[{'Name': 'loss', 'Regex': 'loss = (.*?),'},\n",
    "                                                 {'Name':'epoch','Regex': 'Step_Train = (.*?),'}]\n",
    "                           )"
   ]
  },
  {
   "cell_type": "code",
   "execution_count": null,
   "metadata": {
    "pycharm": {
     "name": "#%%\n"
    }
   },
   "outputs": [],
   "source": [
    "# SageMaker will automatically download the data and make it avaliable at /opt/ml/input/data/train/\n",
    "result = sli_estimator.fit({'train':inputs})"
   ]
  },
  {
   "cell_type": "markdown",
   "metadata": {},
   "source": [
    "模型训练结束后，可以在S3中看到模型文件"
   ]
  }
 ],
 "metadata": {
  "kernelspec": {
   "display_name": "conda_tensorflow_p36",
   "language": "python",
   "name": "conda_tensorflow_p36"
  },
  "language_info": {
   "codemirror_mode": {
    "name": "ipython",
    "version": 3
   },
   "file_extension": ".py",
   "mimetype": "text/x-python",
   "name": "python",
   "nbconvert_exporter": "python",
   "pygments_lexer": "ipython3",
   "version": "3.6.6"
  },
  "pycharm": {
   "stem_cell": {
    "cell_type": "raw",
    "metadata": {
     "collapsed": false
    },
    "source": []
   }
  }
 },
 "nbformat": 4,
 "nbformat_minor": 4
}
